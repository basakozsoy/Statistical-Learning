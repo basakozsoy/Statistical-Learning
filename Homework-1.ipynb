{
 "cells": [
  {
   "cell_type": "code",
   "execution_count": null,
   "metadata": {},
   "outputs": [],
   "source": [
    "# Basak Ozsoy\n",
    "# This code also uses cufflinks, make sure to have it installed! \n",
    "\n",
    "from pytrends.request import TrendReq\n",
    "from plotly.offline import download_plotlyjs, init_notebook_mode, plot, iplot\n",
    "import pandas as pd\n",
    "import matplotlib.pyplot as plt\n",
    "import plotly\n",
    "\n",
    "#Initialization settings\n",
    "init_notebook_mode(connected=True)\n",
    "pytrends = TrendReq(hl = 'en-US', tz = 360)\n",
    "\n",
    "#Range from 2015 to 2020, collecting monthly data\n",
    "timeframe = '2015-01-01 2020-10-01'\n",
    "\n",
    "#Split list into two parts, otherwise Google doesn't like it (ResponseError code 400), then merge them together\n",
    "kw_list1 = [\"data science Python\", \"data science R\", \"data science Java\", \"data science Julia\", \"data science SQL\"]\n",
    "pytrends.build_payload(kw_list1, cat=0, timeframe = timeframe, geo='', gprop='')\n",
    "dataframe1 = pytrends.interest_over_time()\n",
    "\n",
    "kw_list2 = [\"data science C\", \"data science MATLAB\", \"data science Scala\", \"data science Swift\"]\n",
    "pytrends.build_payload(kw_list2, cat=0, timeframe = timeframe, geo='', gprop='')\n",
    "dataframe2 = pytrends.interest_over_time()\n",
    "\n",
    "#Add dataframes together\n",
    "dfmain = dataframe1.add(dataframe2, fill_value = 0)\n",
    "\n",
    "#Drop isPartial column as it is unnecessary \n",
    "dfmain.drop(['isPartial'], axis = 'columns', inplace = True)\n",
    "\n",
    "fig = dfmain.iplot(asFigure = True, kind = 'line', xTitle = 'Dates', yTitle = 'Interest', title='Interest Over Time')\n",
    "iplot(fig)"
   ]
  }
 ],
 "metadata": {
  "kernelspec": {
   "display_name": "Python 3",
   "language": "python",
   "name": "python3"
  },
  "language_info": {
   "codemirror_mode": {
    "name": "ipython",
    "version": 3
   },
   "file_extension": ".py",
   "mimetype": "text/x-python",
   "name": "python",
   "nbconvert_exporter": "python",
   "pygments_lexer": "ipython3",
   "version": "3.7.9"
  }
 },
 "nbformat": 4,
 "nbformat_minor": 4
}
