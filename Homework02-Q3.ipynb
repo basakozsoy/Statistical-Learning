{
 "cells": [
  {
   "cell_type": "markdown",
   "metadata": {},
   "source": [
    "# Data analysis and plotting tools\n",
    "\n",
    "---\n",
    "\n",
    "## Explaining syntax\n",
    "\n",
    "---\n",
    "\n",
    "bins = how many groups the data will be sorted into\n",
    "\n",
    "---\n",
    "\n",
    "#### np.random parameters:\n",
    "\n",
    "(loc, scale, size) where \n",
    "\n",
    "loc = mean/the center of the distribution \n",
    "\n",
    "scale = standard deviation/width of the distribution\n",
    "\n",
    "size = output shape of the returned array\n",
    "\n",
    "---\n",
    "\n",
    "#### np.var parameters:\n",
    "\n",
    "(data, ddof)  where \n",
    "\n",
    "ddof = delta degrees of freedom (default value is 0) so our size is N \n",
    "ddof = 1 provides an unbiased estimator of the variance of a hypothetical infinite population (sample variance) so our size is N - 1\n",
    "\n",
    "computing the variance of the given data with the formula var = mean(abs(x - x.mean())^2)\n",
    "\n",
    "---\n",
    "\n",
    "#### np.random.uniform parameters:\n",
    "\n",
    "drawing samples from a uniform distribution with the syntax (low, high, size)\n",
    "\n",
    "low = lower boundary of the output interval\n",
    "\n",
    "high = higher boundary of the output interval\n",
    "\n",
    "size = output shape, if the shape is (a,b,c) then a * b * c samples are drawn. \n",
    "\n",
    "---\n",
    "\n",
    "#### np.arange parameters:\n",
    "\n",
    "arange function is a function that returns an array containing evenly spaced values within an interval.\n",
    " \n",
    "(start, stop, step) where\n",
    "\n",
    "start = start of interval\n",
    "\n",
    "stop = stop of interval\n",
    "\n",
    "step = spacing between values\n",
    "\n",
    "---\n",
    "#### np.random.poisson parameters:\n",
    "\n",
    "(lam, size) where\n",
    "\n",
    "lam = rate or known number of occurences (parameter of the poisson distribution lambda)\n",
    "\n",
    "size = output shape, if the shape is (a,b,c) then a * b * c samples are drawn.  \n",
    "\n",
    "\n"
   ]
  },
  {
   "cell_type": "code",
   "execution_count": 2,
   "metadata": {},
   "outputs": [
    {
     "data": {
      "image/png": "[encoded data removed]",
      "text/plain": [
       "<Figure size 432x288 with 1 Axes>"
      ]
     },
     "metadata": {
      "needs_background": "light"
     },
     "output_type": "display_data"
    }
   ],
   "source": [
    "%matplotlib inline\n",
    "import numpy as np\n",
    "import matplotlib.pyplot as plt\n",
    "from scipy.stats import norm\n",
    "\n",
    "# for a normal/gaussian distribution with the mean 100.0, standard deviation 50.0 with size 10000:\n",
    "\n",
    "incomes = np.random.normal(100.0, 50.0, 10000)\n",
    "\n",
    "plt.hist(incomes, bins = 50)\n",
    "plt.show()"
   ]
  },
  {
   "cell_type": "code",
   "execution_count": 3,
   "metadata": {},
   "outputs": [
    {
     "data": {
      "text/plain": [
       "49.967140532294444"
      ]
     },
     "execution_count": 3,
     "metadata": {},
     "output_type": "execute_result"
    }
   ],
   "source": [
    "# computing the standard deviation of the given data  with the formula sqrt(mean(abs(x-x.mean( ))**2:\n",
    "incomes.std()"
   ]
  },
  {
   "cell_type": "code",
   "execution_count": 4,
   "metadata": {},
   "outputs": [
    {
     "name": "stdout",
     "output_type": "stream",
     "text": [
      "2496.7151329740623\n",
      "2496.964829457008\n"
     ]
    }
   ],
   "source": [
    "print(np.var(incomes))\n",
    "\n",
    "# computing the sample variance of the given data\n",
    "\n",
    "print(np.var(incomes, ddof = 1))"
   ]
  },
  {
   "cell_type": "code",
   "execution_count": 5,
   "metadata": {},
   "outputs": [
    {
     "data": {
      "text/plain": [
       "[<matplotlib.lines.Line2D at 0x27f6e7b6d08>]"
      ]
     },
     "execution_count": 5,
     "metadata": {},
     "output_type": "execute_result"
    },
    {
     "data": {
      "image/png": "[encoded data removed]",
      "text/plain": [
       "<Figure size 432x288 with 1 Axes>"
      ]
     },
     "metadata": {
      "needs_background": "light"
     },
     "output_type": "display_data"
    }
   ],
   "source": [
    "x = np.arange(-3, 3, 0.001)\n",
    "\n",
    "# to plot the probability density function of a normal continous distribution: \n",
    "\n",
    "plt.plot(x, norm.pdf(x))"
   ]
  },
  {
   "cell_type": "code",
   "execution_count": 9,
   "metadata": {},
   "outputs": [
    {
     "data": {
      "image/png": "[encoded data removed]",
      "text/plain": [
       "<Figure size 432x288 with 1 Axes>"
      ]
     },
     "metadata": {
      "needs_background": "light"
     },
     "output_type": "display_data"
    },
    {
     "data": {
      "image/png": "[encoded data removed]",
      "text/plain": [
       "<Figure size 432x288 with 1 Axes>"
      ]
     },
     "metadata": {
      "needs_background": "light"
     },
     "output_type": "display_data"
    }
   ],
   "source": [
    "#defining values mu and sigma outside of the function:\n",
    "\n",
    "mu = 5.0\n",
    "sigma = 2.0\n",
    "vals = np.random.normal(mu, sigma, 10000)\n",
    "plt.hist(vals, 50)\n",
    "plt.show()\n",
    " \n",
    "#creating a poisson distribution graph\n",
    "\n",
    "lamb = 3\n",
    "valsp = np.random.poisson(lamb, 10000)\n",
    "plt.hist(valsp, 50)\n",
    "plt.show()"
   ]
  },
  {
   "cell_type": "code",
   "execution_count": null,
   "metadata": {},
   "outputs": [],
   "source": []
  }
 ],
 "metadata": {
  "kernelspec": {
   "display_name": "Python 3",
   "language": "python",
   "name": "python3"
  },
  "language_info": {
   "codemirror_mode": {
    "name": "ipython",
    "version": 3
   },
   "file_extension": ".py",
   "mimetype": "text/x-python",
   "name": "python",
   "nbconvert_exporter": "python",
   "pygments_lexer": "ipython3",
   "version": "3.7.9"
  }
 },
 "nbformat": 4,
 "nbformat_minor": 4
}
